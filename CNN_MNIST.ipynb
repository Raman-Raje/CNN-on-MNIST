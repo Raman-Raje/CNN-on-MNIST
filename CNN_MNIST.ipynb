{
  "nbformat": 4,
  "nbformat_minor": 0,
  "metadata": {
    "colab": {
      "name": "Copy of CNN_MNIST_Ex.ipynb",
      "version": "0.3.2",
      "provenance": [],
      "collapsed_sections": []
    },
    "kernelspec": {
      "name": "python3",
      "display_name": "Python 3"
    }
  },
  "cells": [
    {
      "metadata": {
        "id": "BpTvA9cZR3DU",
        "colab_type": "code",
        "outputId": "d37b42a7-8a53-4f27-89f9-32b1b6428d07",
        "colab": {
          "base_uri": "https://localhost:8080/",
          "height": 34
        }
      },
      "cell_type": "code",
      "source": [
        "from __future__ import print_function\n",
        "import keras\n",
        "from keras.datasets import mnist\n",
        "from keras.models import Sequential\n",
        "from keras.layers import Dense, Dropout, Flatten\n",
        "from keras.layers import Conv2D, MaxPooling2D\n",
        "from keras import backend as K\n",
        "import matplotlib.pyplot as plt"
      ],
      "execution_count": 0,
      "outputs": [
        {
          "output_type": "stream",
          "text": [
            "Using TensorFlow backend.\n"
          ],
          "name": "stderr"
        }
      ]
    },
    {
      "metadata": {
        "id": "r327x__KSTbk",
        "colab_type": "code",
        "outputId": "d2df5c45-9e0b-4fd6-cdbd-9e33ebd87868",
        "colab": {
          "base_uri": "https://localhost:8080/",
          "height": 102
        }
      },
      "cell_type": "code",
      "source": [
        "batch_size = 128\n",
        "num_classes = 10\n",
        "epochs = 12\n",
        "\n",
        "# input image dimensions\n",
        "img_rows, img_cols = 28, 28\n",
        "\n",
        "# the data, split between train and test sets\n",
        "(x_train, y_train), (x_test, y_test) = mnist.load_data()\n",
        "\n",
        "if K.image_data_format() == 'channels_first':\n",
        "    x_train = x_train.reshape(x_train.shape[0], 1, img_rows, img_cols)\n",
        "    x_test = x_test.reshape(x_test.shape[0], 1, img_rows, img_cols)\n",
        "    input_shape = (1, img_rows, img_cols)\n",
        "else:\n",
        "    x_train = x_train.reshape(x_train.shape[0], img_rows, img_cols, 1)\n",
        "    x_test = x_test.reshape(x_test.shape[0], img_rows, img_cols, 1)\n",
        "    input_shape = (img_rows, img_cols, 1)\n",
        "\n",
        "x_train = x_train.astype('float32')\n",
        "x_test = x_test.astype('float32')\n",
        "x_train /= 255\n",
        "x_test /= 255\n",
        "print('x_train shape:', x_train.shape)\n",
        "print(x_train.shape[0], 'train samples')\n",
        "print(x_test.shape[0], 'test samples')\n",
        "\n",
        "# convert class vectors to binary class matrices\n",
        "y_train = keras.utils.to_categorical(y_train, num_classes)\n",
        "y_test = keras.utils.to_categorical(y_test, num_classes)\n",
        "\n"
      ],
      "execution_count": 0,
      "outputs": [
        {
          "output_type": "stream",
          "text": [
            "Downloading data from https://s3.amazonaws.com/img-datasets/mnist.npz\n",
            "11493376/11490434 [==============================] - 3s 0us/step\n",
            "x_train shape: (60000, 28, 28, 1)\n",
            "60000 train samples\n",
            "10000 test samples\n"
          ],
          "name": "stdout"
        }
      ]
    },
    {
      "metadata": {
        "id": "aUDehfJDeRxA",
        "colab_type": "text"
      },
      "cell_type": "markdown",
      "source": [
        "####CNN_MNIST_1"
      ]
    },
    {
      "metadata": {
        "id": "Q08WD0VTeXSQ",
        "colab_type": "text"
      },
      "cell_type": "markdown",
      "source": [
        "Layer ==> conv2D +  Maxpooling + Conv2D + Maxpooling + Flatten + Dense(1024) +Dropout(0.5)+ Dense(10)\n",
        "\n",
        "Activation ==> ReLU\n",
        "\n",
        "Padding ==> Same"
      ]
    },
    {
      "metadata": {
        "id": "D9TWUPLzS3kt",
        "colab_type": "code",
        "colab": {}
      },
      "cell_type": "code",
      "source": [
        "model = Sequential()"
      ],
      "execution_count": 0,
      "outputs": []
    },
    {
      "metadata": {
        "id": "LB0SOfTVS8uA",
        "colab_type": "code",
        "colab": {}
      },
      "cell_type": "code",
      "source": [
        "model.add(Conv2D(32,(5,5),padding=\"same\",activation=\"relu\"))\n",
        "model.add(MaxPooling2D())"
      ],
      "execution_count": 0,
      "outputs": []
    },
    {
      "metadata": {
        "id": "I1-QvklrT46Y",
        "colab_type": "code",
        "colab": {}
      },
      "cell_type": "code",
      "source": [
        "model.add(Conv2D(64,(5,5),padding=\"same\",activation=\"relu\"))\n",
        "model.add(MaxPooling2D())"
      ],
      "execution_count": 0,
      "outputs": []
    },
    {
      "metadata": {
        "id": "qmPv3pL_UagD",
        "colab_type": "code",
        "colab": {}
      },
      "cell_type": "code",
      "source": [
        "model.add(Flatten())\n",
        "model.add(Dense(1024,activation=\"relu\"))\n",
        "model.add(Dropout(0.5))\n",
        "model.add(Dense(num_classes, activation='softmax'))"
      ],
      "execution_count": 0,
      "outputs": []
    },
    {
      "metadata": {
        "id": "gsFL1YyyVwr-",
        "colab_type": "code",
        "outputId": "a571a729-6fb4-4863-97e1-75bfec502f1c",
        "colab": {
          "base_uri": "https://localhost:8080/",
          "height": 88
        }
      },
      "cell_type": "code",
      "source": [
        "model.compile(loss=keras.losses.categorical_crossentropy,optimizer=keras.optimizers.Adadelta(),metrics=['accuracy'])\n"
      ],
      "execution_count": 0,
      "outputs": [
        {
          "output_type": "stream",
          "text": [
            "WARNING:tensorflow:From /usr/local/lib/python3.6/dist-packages/tensorflow/python/framework/op_def_library.py:263: colocate_with (from tensorflow.python.framework.ops) is deprecated and will be removed in a future version.\n",
            "Instructions for updating:\n",
            "Colocations handled automatically by placer.\n"
          ],
          "name": "stdout"
        }
      ]
    },
    {
      "metadata": {
        "id": "uQ6MtIo7VZw0",
        "colab_type": "code",
        "outputId": "48eb627c-826b-4e11-ec71-9240bdd66fc9",
        "colab": {
          "base_uri": "https://localhost:8080/",
          "height": 564
        }
      },
      "cell_type": "code",
      "source": [
        "history = model.fit(x_train, y_train,batch_size=batch_size,epochs=epochs,verbose=1,validation_data=(x_test, y_test))\n"
      ],
      "execution_count": 0,
      "outputs": [
        {
          "output_type": "stream",
          "text": [
            "WARNING:tensorflow:From /usr/local/lib/python3.6/dist-packages/keras/backend/tensorflow_backend.py:3445: calling dropout (from tensorflow.python.ops.nn_ops) with keep_prob is deprecated and will be removed in a future version.\n",
            "Instructions for updating:\n",
            "Please use `rate` instead of `keep_prob`. Rate should be set to `rate = 1 - keep_prob`.\n",
            "WARNING:tensorflow:From /usr/local/lib/python3.6/dist-packages/tensorflow/python/ops/math_ops.py:3066: to_int32 (from tensorflow.python.ops.math_ops) is deprecated and will be removed in a future version.\n",
            "Instructions for updating:\n",
            "Use tf.cast instead.\n",
            "Train on 60000 samples, validate on 10000 samples\n",
            "Epoch 1/12\n",
            "60000/60000 [==============================] - 205s 3ms/step - loss: 0.1911 - acc: 0.9404 - val_loss: 0.0542 - val_acc: 0.9812\n",
            "Epoch 2/12\n",
            "60000/60000 [==============================] - 204s 3ms/step - loss: 0.0497 - acc: 0.9846 - val_loss: 0.0313 - val_acc: 0.9886\n",
            "Epoch 3/12\n",
            "60000/60000 [==============================] - 204s 3ms/step - loss: 0.0353 - acc: 0.9892 - val_loss: 0.0253 - val_acc: 0.9915\n",
            "Epoch 4/12\n",
            "60000/60000 [==============================] - 204s 3ms/step - loss: 0.0262 - acc: 0.9917 - val_loss: 0.0204 - val_acc: 0.9920\n",
            "Epoch 5/12\n",
            "60000/60000 [==============================] - 203s 3ms/step - loss: 0.0207 - acc: 0.9936 - val_loss: 0.0185 - val_acc: 0.9932\n",
            "Epoch 6/12\n",
            "60000/60000 [==============================] - 203s 3ms/step - loss: 0.0164 - acc: 0.9949 - val_loss: 0.0206 - val_acc: 0.9927\n",
            "Epoch 7/12\n",
            "60000/60000 [==============================] - 204s 3ms/step - loss: 0.0140 - acc: 0.9956 - val_loss: 0.0208 - val_acc: 0.9932\n",
            "Epoch 8/12\n",
            "60000/60000 [==============================] - 204s 3ms/step - loss: 0.0103 - acc: 0.9969 - val_loss: 0.0241 - val_acc: 0.9926\n",
            "Epoch 9/12\n",
            "60000/60000 [==============================] - 204s 3ms/step - loss: 0.0097 - acc: 0.9969 - val_loss: 0.0235 - val_acc: 0.9928\n",
            "Epoch 10/12\n",
            "60000/60000 [==============================] - 204s 3ms/step - loss: 0.0077 - acc: 0.9977 - val_loss: 0.0237 - val_acc: 0.9929\n",
            "Epoch 11/12\n",
            "60000/60000 [==============================] - 205s 3ms/step - loss: 0.0069 - acc: 0.9980 - val_loss: 0.0218 - val_acc: 0.9938\n",
            "Epoch 12/12\n",
            "60000/60000 [==============================] - 203s 3ms/step - loss: 0.0054 - acc: 0.9984 - val_loss: 0.0227 - val_acc: 0.9932\n"
          ],
          "name": "stdout"
        }
      ]
    },
    {
      "metadata": {
        "id": "F3Lufm99VsVG",
        "colab_type": "code",
        "outputId": "67f55ee9-8841-40d9-dad3-dc57acc38093",
        "colab": {
          "base_uri": "https://localhost:8080/",
          "height": 71
        }
      },
      "cell_type": "code",
      "source": [
        "score = model.evaluate(x_test, y_test, verbose=0)\n",
        "test1_loss = score[0]*100\n",
        "test1_accuracy = score[1]*100\n",
        "\n",
        "print('Test loss:', score[0])\n",
        "print('Test accuracy:', score[1]*100)\n"
      ],
      "execution_count": 0,
      "outputs": [
        {
          "output_type": "stream",
          "text": [
            "Test loss: 0.0227041470241536\n",
            "Test accuracy: 99.32\n"
          ],
          "name": "stdout"
        }
      ]
    },
    {
      "metadata": {
        "id": "RLN7kS6okaK0",
        "colab_type": "text"
      },
      "cell_type": "markdown",
      "source": [
        "Accuracy and Error Plots"
      ]
    },
    {
      "metadata": {
        "id": "8dCso2KvvDBg",
        "colab_type": "code",
        "outputId": "2059764f-31d3-4b98-a79a-b56c1e83727b",
        "colab": {
          "base_uri": "https://localhost:8080/",
          "height": 396
        }
      },
      "cell_type": "code",
      "source": [
        "plt.figure()\n",
        "plt.subplot(121)\n",
        "plt.plot(history.history['acc'])\n",
        "plt.plot(history.history['val_acc'])\n",
        "plt.title('Model Accuracy Plot')\n",
        "plt.ylabel('accuracy')\n",
        "plt.xlabel('epoch')\n",
        "plt.legend(['train', 'test'], loc='upper left')\n",
        "plt.subplot(122)\n",
        "# summarize history for loss\n",
        "plt.plot(history.history['loss'])\n",
        "plt.plot(history.history['val_loss'])\n",
        "plt.title('Model Loss Plot')\n",
        "plt.ylabel('loss')\n",
        "plt.xlabel('epoch')\n",
        "plt.legend(['train', 'test'], loc='upper left')\n",
        "plt.show()"
      ],
      "execution_count": 0,
      "outputs": [
        {
          "output_type": "display_data",
          "data": {
            "image/png": "[encoded data removed]",
            "text/plain": [
              "<Figure size 576x396 with 2 Axes>"
            ]
          },
          "metadata": {
            "tags": []
          }
        }
      ]
    },
    {
      "metadata": {
        "id": "YBgyUvVT5VEG",
        "colab_type": "text"
      },
      "cell_type": "markdown",
      "source": [
        "####CNN_MNIST_2"
      ]
    },
    {
      "metadata": {
        "id": "AWMRsSxoPyFS",
        "colab_type": "text"
      },
      "cell_type": "markdown",
      "source": [
        "Layers =>  conv2D + conv2D + Maxpooling  + Conv2D + conv2D + Maxpooling + Batch Normalization +Flatten + Dense(1024) + Dense(526) + Dense(10)\n",
        "\n",
        "Padding ==> Valid\n",
        "\n",
        "Activation ==> Sigmoid"
      ]
    },
    {
      "metadata": {
        "id": "HnT85Z-NOPAv",
        "colab_type": "code",
        "colab": {}
      },
      "cell_type": "code",
      "source": [
        "from keras.layers import BatchNormalization"
      ],
      "execution_count": 0,
      "outputs": []
    },
    {
      "metadata": {
        "id": "1vID4-j95Uw2",
        "colab_type": "code",
        "colab": {}
      },
      "cell_type": "code",
      "source": [
        "model = Sequential()"
      ],
      "execution_count": 0,
      "outputs": []
    },
    {
      "metadata": {
        "id": "xGpG8ppvWgzz",
        "colab_type": "code",
        "colab": {}
      },
      "cell_type": "code",
      "source": [
        "model.add(Conv2D(16,(5,5),activation=\"sigmoid\"))\n",
        "model.add(Conv2D(32,(5,5),activation=\"sigmoid\"))\n",
        "model.add(MaxPooling2D())"
      ],
      "execution_count": 0,
      "outputs": []
    },
    {
      "metadata": {
        "id": "AREABj2--IuW",
        "colab_type": "code",
        "colab": {}
      },
      "cell_type": "code",
      "source": [
        "model.add(Conv2D(64,(3,3),activation=\"sigmoid\"))\n",
        "model.add(Conv2D(128, (3, 3), use_bias=False,activation=\"sigmoid\"))\n",
        "# took referance from https://www.dlology.com/blog/one-simple-trick-to-train-keras-model-faster-with-batch-normalization/\n",
        "model.add(BatchNormalization())"
      ],
      "execution_count": 0,
      "outputs": []
    },
    {
      "metadata": {
        "id": "YmWmMSf5-s0w",
        "colab_type": "code",
        "colab": {}
      },
      "cell_type": "code",
      "source": [
        "model.add(Flatten())\n",
        "model.add(Dense(1024,activation=\"sigmoid\"))\n",
        "model.add(Dense(524,activation=\"sigmoid\"))\n",
        "model.add(Dense(10,activation=\"softmax\"))"
      ],
      "execution_count": 0,
      "outputs": []
    },
    {
      "metadata": {
        "id": "yYZ8shHLONwW",
        "colab_type": "code",
        "colab": {}
      },
      "cell_type": "code",
      "source": [
        "model.compile(loss=keras.losses.categorical_crossentropy,\n",
        "              optimizer=keras.optimizers.Adadelta(),\n",
        "              metrics=['accuracy'])"
      ],
      "execution_count": 0,
      "outputs": []
    },
    {
      "metadata": {
        "id": "vR18PRwSPnvQ",
        "colab_type": "code",
        "outputId": "78a15468-5526-4609-c148-647cc664ed41",
        "colab": {
          "base_uri": "https://localhost:8080/",
          "height": 442
        }
      },
      "cell_type": "code",
      "source": [
        "history = model.fit(x_train, y_train,batch_size=batch_size,epochs=epochs,verbose=1,validation_data=(x_test, y_test))"
      ],
      "execution_count": 0,
      "outputs": [
        {
          "output_type": "stream",
          "text": [
            "Train on 60000 samples, validate on 10000 samples\n",
            "Epoch 1/12\n",
            "60000/60000 [==============================] - 239s 4ms/step - loss: 0.6353 - acc: 0.7860 - val_loss: 0.5028 - val_acc: 0.8322\n",
            "Epoch 2/12\n",
            "60000/60000 [==============================] - 239s 4ms/step - loss: 0.1180 - acc: 0.9644 - val_loss: 0.1291 - val_acc: 0.9584\n",
            "Epoch 3/12\n",
            "60000/60000 [==============================] - 240s 4ms/step - loss: 0.0709 - acc: 0.9786 - val_loss: 0.0813 - val_acc: 0.9743\n",
            "Epoch 4/12\n",
            "60000/60000 [==============================] - 237s 4ms/step - loss: 0.0491 - acc: 0.9856 - val_loss: 0.0981 - val_acc: 0.9685\n",
            "Epoch 5/12\n",
            "60000/60000 [==============================] - 239s 4ms/step - loss: 0.0370 - acc: 0.9884 - val_loss: 0.0675 - val_acc: 0.9796\n",
            "Epoch 6/12\n",
            "60000/60000 [==============================] - 239s 4ms/step - loss: 0.0294 - acc: 0.9910 - val_loss: 0.0587 - val_acc: 0.9801\n",
            "Epoch 7/12\n",
            "60000/60000 [==============================] - 238s 4ms/step - loss: 0.0230 - acc: 0.9933 - val_loss: 0.1027 - val_acc: 0.9667\n",
            "Epoch 8/12\n",
            "60000/60000 [==============================] - 238s 4ms/step - loss: 0.0171 - acc: 0.9948 - val_loss: 0.0882 - val_acc: 0.9728\n",
            "Epoch 9/12\n",
            "60000/60000 [==============================] - 237s 4ms/step - loss: 0.0126 - acc: 0.9963 - val_loss: 0.0366 - val_acc: 0.9888\n",
            "Epoch 10/12\n",
            "60000/60000 [==============================] - 238s 4ms/step - loss: 0.0103 - acc: 0.9970 - val_loss: 0.0839 - val_acc: 0.9744\n",
            "Epoch 11/12\n",
            "60000/60000 [==============================] - 241s 4ms/step - loss: 0.0067 - acc: 0.9984 - val_loss: 0.0355 - val_acc: 0.9883\n",
            "Epoch 12/12\n",
            "60000/60000 [==============================] - 242s 4ms/step - loss: 0.0048 - acc: 0.9989 - val_loss: 0.0299 - val_acc: 0.9900\n"
          ],
          "name": "stdout"
        }
      ]
    },
    {
      "metadata": {
        "id": "ouMsYGtdPrdB",
        "colab_type": "code",
        "outputId": "3c0194da-b2f6-40c6-d312-cc94f176bbfa",
        "colab": {
          "base_uri": "https://localhost:8080/",
          "height": 51
        }
      },
      "cell_type": "code",
      "source": [
        "score = model.evaluate(x_test, y_test, verbose=0)\n",
        "\n",
        "test2_loss = score[0]*100\n",
        "test2_accuracy = score[1]*100\n",
        "\n",
        "\n",
        "print('Test loss:', score[0])\n",
        "print('Test accuracy:', score[1]*100)\n"
      ],
      "execution_count": 0,
      "outputs": [
        {
          "output_type": "stream",
          "text": [
            "Test loss: 0.029902513770171207\n",
            "Test accuracy: 99.0\n"
          ],
          "name": "stdout"
        }
      ]
    },
    {
      "metadata": {
        "id": "5yp2vbUvvOSQ",
        "colab_type": "text"
      },
      "cell_type": "markdown",
      "source": [
        "Accuracy/Loss plot"
      ]
    },
    {
      "metadata": {
        "id": "BPR09m_KvNw3",
        "colab_type": "code",
        "outputId": "33545a76-7ee1-4413-ee56-aa9f7da572a9",
        "colab": {
          "base_uri": "https://localhost:8080/",
          "height": 376
        }
      },
      "cell_type": "code",
      "source": [
        "plt.figure()\n",
        "plt.subplot(121)\n",
        "plt.plot(history.history['acc'])\n",
        "plt.plot(history.history['val_acc'])\n",
        "plt.title('Model Accuracy Plot')\n",
        "plt.ylabel('accuracy')\n",
        "plt.xlabel('epoch')\n",
        "plt.legend(['train', 'test'], loc='upper left')\n",
        "plt.subplot(122)\n",
        "# summarize history for loss\n",
        "plt.plot(history.history['loss'])\n",
        "plt.plot(history.history['val_loss'])\n",
        "plt.title('Model Loss Plot')\n",
        "plt.ylabel('loss')\n",
        "plt.xlabel('epoch')\n",
        "plt.legend(['train', 'test'], loc='upper left')\n",
        "plt.show()"
      ],
      "execution_count": 0,
      "outputs": [
        {
          "output_type": "display_data",
          "data": {
            "image/png": "[encoded data removed]",
            "text/plain": [
              "<Figure size 576x396 with 2 Axes>"
            ]
          },
          "metadata": {
            "tags": []
          }
        }
      ]
    },
    {
      "metadata": {
        "id": "APu0H5F4cVvc",
        "colab_type": "text"
      },
      "cell_type": "markdown",
      "source": [
        "####CNN_MNIST_3"
      ]
    },
    {
      "metadata": {
        "id": "xWzgPlbhQNz0",
        "colab_type": "text"
      },
      "cell_type": "markdown",
      "source": [
        "Layers => conv2D + conv2D + Maxpooling + Conv2D + conv2D +Dropout +Flatten + Dense(1024) + Dense(526) + Dense(10)\n",
        "\n",
        "Padding ==> Valid\n",
        "\n",
        "Activation ==> Sigmoid"
      ]
    },
    {
      "metadata": {
        "id": "kc34ei_GcVcM",
        "colab_type": "code",
        "colab": {}
      },
      "cell_type": "code",
      "source": [
        "model = Sequential()\n",
        "model.add(Conv2D(16,(5,5),activation=\"sigmoid\"))\n",
        "model.add(Conv2D(32,(5,5),activation=\"sigmoid\"))\n",
        "model.add(MaxPooling2D())"
      ],
      "execution_count": 0,
      "outputs": []
    },
    {
      "metadata": {
        "id": "3Et3VfW2ci0V",
        "colab_type": "code",
        "colab": {}
      },
      "cell_type": "code",
      "source": [
        "model.add(Conv2D(64,(3,3),activation=\"sigmoid\"))\n",
        "model.add(Conv2D(128, (3, 3),activation=\"sigmoid\"))\n",
        "model.add(Dropout(0.5))\n",
        "\n",
        "model.add(Flatten())\n",
        "model.add(Dense(1024,activation=\"sigmoid\"))\n",
        "model.add(Dense(524,activation=\"sigmoid\"))\n",
        "model.add(Dense(10,activation=\"softmax\"))\n"
      ],
      "execution_count": 0,
      "outputs": []
    },
    {
      "metadata": {
        "id": "Mm7ihEUGdI0n",
        "colab_type": "code",
        "colab": {}
      },
      "cell_type": "code",
      "source": [
        "model.compile(loss=keras.losses.categorical_crossentropy,\n",
        "              optimizer=keras.optimizers.Adadelta(),\n",
        "              metrics=['accuracy'])"
      ],
      "execution_count": 0,
      "outputs": []
    },
    {
      "metadata": {
        "id": "zr-b2242dLG7",
        "colab_type": "code",
        "outputId": "48273f53-f155-4499-85a5-f6550cc6206c",
        "colab": {
          "base_uri": "https://localhost:8080/",
          "height": 442
        }
      },
      "cell_type": "code",
      "source": [
        "history = model.fit(x_train, y_train,batch_size=batch_size,epochs=epochs,verbose=1,validation_data=(x_test, y_test))"
      ],
      "execution_count": 0,
      "outputs": [
        {
          "output_type": "stream",
          "text": [
            "Train on 60000 samples, validate on 10000 samples\n",
            "Epoch 1/12\n",
            "60000/60000 [==============================] - 231s 4ms/step - loss: 2.3334 - acc: 0.1031 - val_loss: 2.3617 - val_acc: 0.1135\n",
            "Epoch 2/12\n",
            "60000/60000 [==============================] - 230s 4ms/step - loss: 2.3250 - acc: 0.1016 - val_loss: 2.3089 - val_acc: 0.0974\n",
            "Epoch 3/12\n",
            "60000/60000 [==============================] - 228s 4ms/step - loss: 2.3148 - acc: 0.1017 - val_loss: 2.3061 - val_acc: 0.1028\n",
            "Epoch 4/12\n",
            "60000/60000 [==============================] - 229s 4ms/step - loss: 2.3036 - acc: 0.1084 - val_loss: 2.3021 - val_acc: 0.1135\n",
            "Epoch 5/12\n",
            "60000/60000 [==============================] - 230s 4ms/step - loss: 2.3020 - acc: 0.1106 - val_loss: 2.3013 - val_acc: 0.1135\n",
            "Epoch 6/12\n",
            "60000/60000 [==============================] - 230s 4ms/step - loss: 2.3016 - acc: 0.1117 - val_loss: 2.3011 - val_acc: 0.1135\n",
            "Epoch 7/12\n",
            "60000/60000 [==============================] - 230s 4ms/step - loss: 2.3015 - acc: 0.1115 - val_loss: 2.3013 - val_acc: 0.1135\n",
            "Epoch 8/12\n",
            "60000/60000 [==============================] - 230s 4ms/step - loss: 2.3015 - acc: 0.1124 - val_loss: 2.3012 - val_acc: 0.1135\n",
            "Epoch 9/12\n",
            "60000/60000 [==============================] - 229s 4ms/step - loss: 2.3015 - acc: 0.1124 - val_loss: 2.3012 - val_acc: 0.1135\n",
            "Epoch 10/12\n",
            "60000/60000 [==============================] - 231s 4ms/step - loss: 2.3014 - acc: 0.1124 - val_loss: 2.3010 - val_acc: 0.1135\n",
            "Epoch 11/12\n",
            "60000/60000 [==============================] - 230s 4ms/step - loss: 2.3014 - acc: 0.1124 - val_loss: 2.3011 - val_acc: 0.1135\n",
            "Epoch 12/12\n",
            "60000/60000 [==============================] - 229s 4ms/step - loss: 2.3014 - acc: 0.1124 - val_loss: 2.3011 - val_acc: 0.1135\n"
          ],
          "name": "stdout"
        }
      ]
    },
    {
      "metadata": {
        "id": "PcLPYQIndNQr",
        "colab_type": "code",
        "outputId": "e1ede564-ed12-4779-98a9-bb2c1dbcbc21",
        "colab": {
          "base_uri": "https://localhost:8080/",
          "height": 51
        }
      },
      "cell_type": "code",
      "source": [
        "score = model.evaluate(x_test, y_test, verbose=0)\n",
        "\n",
        "test3_loss = score[0]*100\n",
        "test3_accuracy = score[1]*100\n",
        "\n",
        "\n",
        "print('Test loss:', score[0])\n",
        "print('Test accuracy:', score[1]*100)\n"
      ],
      "execution_count": 0,
      "outputs": [
        {
          "output_type": "stream",
          "text": [
            "Test loss: 2.3011466354370116\n",
            "Test accuracy: 11.35\n"
          ],
          "name": "stdout"
        }
      ]
    },
    {
      "metadata": {
        "id": "Itrl-XaudO9L",
        "colab_type": "code",
        "outputId": "241e107e-5ea9-482f-fc60-303a847282b8",
        "colab": {
          "base_uri": "https://localhost:8080/",
          "height": 376
        }
      },
      "cell_type": "code",
      "source": [
        "plt.figure()\n",
        "plt.subplot(121)\n",
        "plt.plot(history.history['acc'])\n",
        "plt.plot(history.history['val_acc'])\n",
        "plt.title('Model Accuracy Plot')\n",
        "plt.ylabel('accuracy')\n",
        "plt.xlabel('epoch')\n",
        "plt.legend(['train', 'test'], loc='upper left')\n",
        "plt.subplot(122)\n",
        "# summarize history for loss\n",
        "plt.plot(history.history['loss'])\n",
        "plt.plot(history.history['val_loss'])\n",
        "plt.title('Model Loss Plot')\n",
        "plt.ylabel('loss')\n",
        "plt.xlabel('epoch')\n",
        "plt.legend(['train', 'test'], loc='upper left')\n",
        "plt.show()"
      ],
      "execution_count": 0,
      "outputs": [
        {
          "output_type": "display_data",
          "data": {
            "image/png": "[encoded data removed]",
            "text/plain": [
              "<Figure size 576x396 with 2 Axes>"
            ]
          },
          "metadata": {
            "tags": []
          }
        }
      ]
    },
    {
      "metadata": {
        "id": "fT1pGCN7dVE9",
        "colab_type": "text"
      },
      "cell_type": "markdown",
      "source": [
        "####CNN_MNIST_4"
      ]
    },
    {
      "metadata": {
        "id": "owyPhlH0Qbl3",
        "colab_type": "text"
      },
      "cell_type": "markdown",
      "source": [
        "Layers => conv2D + conv2D + Maxpooling + Conv2D + conv2D +  Batch Normalization +Flatten + Dense(1024) +Dropout(0.5)+ Dense(524) + Dense(10)\n",
        "\n",
        "Padding ==> Valid\n",
        "\n",
        "Activation ==> Sigmoid"
      ]
    },
    {
      "metadata": {
        "id": "rIKaxyEedaoN",
        "colab_type": "code",
        "colab": {}
      },
      "cell_type": "code",
      "source": [
        "model = Sequential()\n",
        "model.add(Conv2D(16,(5,5),activation=\"sigmoid\"))\n",
        "model.add(Conv2D(32,(5,5),activation=\"sigmoid\"))\n",
        "model.add(MaxPooling2D())"
      ],
      "execution_count": 0,
      "outputs": []
    },
    {
      "metadata": {
        "id": "1jZT77XYdaio",
        "colab_type": "code",
        "colab": {}
      },
      "cell_type": "code",
      "source": [
        "model.add(Conv2D(64,(3,3),activation=\"sigmoid\"))\n",
        "model.add(Conv2D(128, (3, 3),activation=\"sigmoid\"))\n",
        "model.add(BatchNormalization())\n",
        "\n",
        "model.add(Flatten())\n",
        "model.add(Dense(1024,activation=\"sigmoid\"))\n",
        "model.add(Dropout(0.2))\n",
        "model.add(Dense(524,activation=\"sigmoid\"))\n",
        "model.add(Dense(10,activation=\"softmax\"))\n"
      ],
      "execution_count": 0,
      "outputs": []
    },
    {
      "metadata": {
        "id": "zaqQ350Edaf1",
        "colab_type": "code",
        "colab": {}
      },
      "cell_type": "code",
      "source": [
        "model.compile(loss=keras.losses.categorical_crossentropy,\n",
        "              optimizer=keras.optimizers.Adadelta(),\n",
        "              metrics=['accuracy'])"
      ],
      "execution_count": 0,
      "outputs": []
    },
    {
      "metadata": {
        "id": "55ZPAYSAdZ7r",
        "colab_type": "code",
        "outputId": "ccfa8d72-26d6-473f-e302-b9627f29fffb",
        "colab": {
          "base_uri": "https://localhost:8080/",
          "height": 442
        }
      },
      "cell_type": "code",
      "source": [
        "history = model.fit(x_train, y_train,batch_size=batch_size,epochs=epochs,verbose=1,validation_data=(x_test, y_test))"
      ],
      "execution_count": 29,
      "outputs": [
        {
          "output_type": "stream",
          "text": [
            "Train on 60000 samples, validate on 10000 samples\n",
            "Epoch 1/12\n",
            "60000/60000 [==============================] - 242s 4ms/step - loss: 0.5656 - acc: 0.8114 - val_loss: 0.7439 - val_acc: 0.7844\n",
            "Epoch 2/12\n",
            "60000/60000 [==============================] - 241s 4ms/step - loss: 0.1249 - acc: 0.9614 - val_loss: 0.0816 - val_acc: 0.9729\n",
            "Epoch 3/12\n",
            "60000/60000 [==============================] - 241s 4ms/step - loss: 0.0749 - acc: 0.9775 - val_loss: 0.1489 - val_acc: 0.9509\n",
            "Epoch 4/12\n",
            "60000/60000 [==============================] - 240s 4ms/step - loss: 0.0543 - acc: 0.9835 - val_loss: 0.1048 - val_acc: 0.9640\n",
            "Epoch 5/12\n",
            "60000/60000 [==============================] - 239s 4ms/step - loss: 0.0418 - acc: 0.9868 - val_loss: 0.0436 - val_acc: 0.9847\n",
            "Epoch 6/12\n",
            "60000/60000 [==============================] - 242s 4ms/step - loss: 0.0331 - acc: 0.9896 - val_loss: 0.0588 - val_acc: 0.9807\n",
            "Epoch 7/12\n",
            "60000/60000 [==============================] - 243s 4ms/step - loss: 0.0271 - acc: 0.9916 - val_loss: 0.0512 - val_acc: 0.9839\n",
            "Epoch 8/12\n",
            "60000/60000 [==============================] - 240s 4ms/step - loss: 0.0218 - acc: 0.9931 - val_loss: 0.0514 - val_acc: 0.9841\n",
            "Epoch 9/12\n",
            "60000/60000 [==============================] - 240s 4ms/step - loss: 0.0177 - acc: 0.9945 - val_loss: 0.0426 - val_acc: 0.9847\n",
            "Epoch 10/12\n",
            "60000/60000 [==============================] - 243s 4ms/step - loss: 0.0144 - acc: 0.9958 - val_loss: 0.0501 - val_acc: 0.9832\n",
            "Epoch 11/12\n",
            "60000/60000 [==============================] - 242s 4ms/step - loss: 0.0113 - acc: 0.9966 - val_loss: 0.0445 - val_acc: 0.9868\n",
            "Epoch 12/12\n",
            "60000/60000 [==============================] - 242s 4ms/step - loss: 0.0100 - acc: 0.9968 - val_loss: 0.0296 - val_acc: 0.9909\n"
          ],
          "name": "stdout"
        }
      ]
    },
    {
      "metadata": {
        "id": "a0DjjncFdlQX",
        "colab_type": "code",
        "colab": {
          "base_uri": "https://localhost:8080/",
          "height": 51
        },
        "outputId": "29f369de-eb06-45e5-85ae-894207ca093f"
      },
      "cell_type": "code",
      "source": [
        "score = model.evaluate(x_test, y_test, verbose=0)\n",
        "\n",
        "test4_loss = score[0]*100\n",
        "test4_accuracy = score[1]*100\n",
        "\n",
        "\n",
        "print('Test loss:', score[0])\n",
        "print('Test accuracy:', score[1]*100)\n"
      ],
      "execution_count": 30,
      "outputs": [
        {
          "output_type": "stream",
          "text": [
            "Test loss: 0.029612665722063683\n",
            "Test accuracy: 99.09\n"
          ],
          "name": "stdout"
        }
      ]
    },
    {
      "metadata": {
        "id": "3HSUgvPVdmHf",
        "colab_type": "code",
        "colab": {}
      },
      "cell_type": "code",
      "source": [
        "plt.figure()\n",
        "plt.subplot(121)\n",
        "plt.plot(history.history['acc'])\n",
        "plt.plot(history.history['val_acc'])\n",
        "plt.title('Model Accuracy Plot')\n",
        "plt.ylabel('accuracy')\n",
        "plt.xlabel('epoch')\n",
        "plt.legend(['train', 'test'], loc='upper left')\n",
        "plt.subplot(122)\n",
        "# summarize history for loss\n",
        "plt.plot(history.history['loss'])\n",
        "plt.plot(history.history['val_loss'])\n",
        "plt.title('Model Loss Plot')\n",
        "plt.ylabel('loss')\n",
        "plt.xlabel('epoch')\n",
        "plt.legend(['train', 'test'], loc='upper left')\n",
        "plt.show()"
      ],
      "execution_count": 0,
      "outputs": []
    },
    {
      "metadata": {
        "id": "ouOnZJJXd1vi",
        "colab_type": "text"
      },
      "cell_type": "markdown",
      "source": [
        "**Conclusion**"
      ]
    },
    {
      "metadata": {
        "id": "wxmJ1-Zed7yS",
        "colab_type": "text"
      },
      "cell_type": "markdown",
      "source": [
        "1. Highest accuracy found **99.32 %** in case of model 1\n",
        "2. Accuracy dropped as number of convolutional layers increase as seen for case 2\n",
        "3. Model performed worst when batch normalization layer was replaced by Dropout. Train\\test error found very high. Model underfitted in case 3"
      ]
    },
    {
      "metadata": {
        "id": "r9t3-GA8w5nH",
        "colab_type": "text"
      },
      "cell_type": "markdown",
      "source": [
        "####Summary"
      ]
    },
    {
      "metadata": {
        "id": "wqeRg8dEw6xl",
        "colab_type": "code",
        "colab": {}
      },
      "cell_type": "code",
      "source": [
        "from prettytable import PrettyTable\n",
        "summary = PrettyTable()"
      ],
      "execution_count": 0,
      "outputs": []
    },
    {
      "metadata": {
        "id": "Kl8CYtGJw8Pn",
        "colab_type": "code",
        "colab": {}
      },
      "cell_type": "code",
      "source": [
        "summary.field_names = [\"Model\", \"Batch Normalization\", \"Dropout\",  \"Test Loss\",\"Test Accuracy\"]"
      ],
      "execution_count": 0,
      "outputs": []
    },
    {
      "metadata": {
        "id": "ypVkyuACw-lG",
        "colab_type": "code",
        "colab": {}
      },
      "cell_type": "code",
      "source": [
        "summary.add_row([\"CNN_MNIST_1\",\"No\",\"Yes (0.5)\",test1_loss,test1_accuracy])\n",
        "summary.add_row([\"CNN_MNIST_2\",\"Yes\",\"No\",test2_loss,test2_accuracy])\n",
        "summary.add_row([\"CNN_MNIST_3\",\"No\",\"Yes (0.5)\",test3_loss,test3_accuracy])\n",
        "summary.add_row([\"CNN_MNIST_4\",\"Yes\",\"Yes (0.2)\",test4_loss,test4_accuracy])"
      ],
      "execution_count": 0,
      "outputs": []
    },
    {
      "metadata": {
        "id": "ugL1VmGDdZ_A",
        "colab_type": "code",
        "colab": {
          "base_uri": "https://localhost:8080/",
          "height": 425
        },
        "outputId": "8ae01057-5aa2-4f89-98f0-a8112f79f065"
      },
      "cell_type": "code",
      "source": [
        "print(summary)"
      ],
      "execution_count": 35,
      "outputs": [
        {
          "output_type": "stream",
          "text": [
            "+-------------+---------------------+-----------+--------------------+---------------+\n",
            "|    Model    | Batch Normalization |  Dropout  |     Test Loss      | Test Accuracy |\n",
            "+-------------+---------------------+-----------+--------------------+---------------+\n",
            "| CNN_MNIST_1 |          No         | Yes (0.5) |  2.27041470241536  |     99.32     |\n",
            "| CNN_MNIST_2 |         Yes         |     No    | 2.990251377017121  |      99.0     |\n",
            "| CNN_MNIST_3 |          No         | Yes (0.5) | 230.11466354370117 |     11.35     |\n",
            "| CNN_MNIST_4 |         Yes         | Yes (0.2) | 2.9612665722063682 |     99.09     |\n",
            "+-------------+---------------------+-----------+--------------------+---------------+\n",
            "+-------------+---------------------+-----------+--------------------+---------------+\n",
            "|    Model    | Batch Normalization |  Dropout  |     Test Loss      | Test Accuracy |\n",
            "+-------------+---------------------+-----------+--------------------+---------------+\n",
            "| CNN_MNIST_1 |          No         | Yes (0.5) |  2.27041470241536  |     99.32     |\n",
            "| CNN_MNIST_2 |         Yes         |     No    | 2.990251377017121  |      99.0     |\n",
            "| CNN_MNIST_3 |          No         | Yes (0.5) | 230.11466354370117 |     11.35     |\n",
            "| CNN_MNIST_4 |         Yes         | Yes (0.2) | 2.9612665722063682 |     99.09     |\n",
            "+-------------+---------------------+-----------+--------------------+---------------+\n",
            "+-------------+---------------------+-----------+--------------------+---------------+\n",
            "|    Model    | Batch Normalization |  Dropout  |     Test Loss      | Test Accuracy |\n",
            "+-------------+---------------------+-----------+--------------------+---------------+\n",
            "| CNN_MNIST_1 |          No         | Yes (0.5) |  2.27041470241536  |     99.32     |\n",
            "| CNN_MNIST_2 |         Yes         |     No    | 2.990251377017121  |      99.0     |\n",
            "| CNN_MNIST_3 |          No         | Yes (0.5) | 230.11466354370117 |     11.35     |\n",
            "| CNN_MNIST_4 |         Yes         | Yes (0.2) | 2.9612665722063682 |     99.09     |\n",
            "+-------------+---------------------+-----------+--------------------+---------------+\n"
          ],
          "name": "stdout"
        }
      ]
    }
  ]
}